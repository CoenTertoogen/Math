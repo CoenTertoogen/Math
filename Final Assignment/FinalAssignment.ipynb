{
 "cells": [
  {
   "cell_type": "code",
   "execution_count": 1,
   "metadata": {},
   "outputs": [],
   "source": [
    "import pandas as pd"
   ]
  },
  {
   "cell_type": "code",
   "execution_count": 2,
   "metadata": {},
   "outputs": [],
   "source": [
    "df = pd.read_csv('dataset_1654342.csv')"
   ]
  },
  {
   "cell_type": "code",
   "execution_count": 3,
   "metadata": {},
   "outputs": [
    {
     "data": {
      "text/html": [
       "<div>\n",
       "<style scoped>\n",
       "    .dataframe tbody tr th:only-of-type {\n",
       "        vertical-align: middle;\n",
       "    }\n",
       "\n",
       "    .dataframe tbody tr th {\n",
       "        vertical-align: top;\n",
       "    }\n",
       "\n",
       "    .dataframe thead th {\n",
       "        text-align: right;\n",
       "    }\n",
       "</style>\n",
       "<table border=\"1\" class=\"dataframe\">\n",
       "  <thead>\n",
       "    <tr style=\"text-align: right;\">\n",
       "      <th></th>\n",
       "      <th>transaction_id</th>\n",
       "      <th>transaction_date</th>\n",
       "      <th>transaction_time</th>\n",
       "      <th>transaction_qty</th>\n",
       "      <th>store_id</th>\n",
       "      <th>store_location</th>\n",
       "      <th>unit_price</th>\n",
       "      <th>product_category</th>\n",
       "      <th>product_type</th>\n",
       "    </tr>\n",
       "  </thead>\n",
       "  <tbody>\n",
       "    <tr>\n",
       "      <th>0</th>\n",
       "      <td>1</td>\n",
       "      <td>06/08/2023</td>\n",
       "      <td>17:41:54</td>\n",
       "      <td>1.0</td>\n",
       "      <td>2</td>\n",
       "      <td>Groningen</td>\n",
       "      <td>3.25</td>\n",
       "      <td>Tea</td>\n",
       "      <td>Chai tea</td>\n",
       "    </tr>\n",
       "    <tr>\n",
       "      <th>1</th>\n",
       "      <td>2</td>\n",
       "      <td>06/10/2023</td>\n",
       "      <td>11:30:46</td>\n",
       "      <td>2.0</td>\n",
       "      <td>2</td>\n",
       "      <td>Groningen</td>\n",
       "      <td>4.50</td>\n",
       "      <td>Chocolate</td>\n",
       "      <td>Hot chocolate</td>\n",
       "    </tr>\n",
       "    <tr>\n",
       "      <th>2</th>\n",
       "      <td>3</td>\n",
       "      <td>06/06/2023</td>\n",
       "      <td>09:19:26</td>\n",
       "      <td>3.0</td>\n",
       "      <td>2</td>\n",
       "      <td>Groningen</td>\n",
       "      <td>3.00</td>\n",
       "      <td>Tea</td>\n",
       "      <td>Black tea</td>\n",
       "    </tr>\n",
       "    <tr>\n",
       "      <th>3</th>\n",
       "      <td>4</td>\n",
       "      <td>06/10/2023</td>\n",
       "      <td>17:25:49</td>\n",
       "      <td>1.0</td>\n",
       "      <td>3</td>\n",
       "      <td>Breda</td>\n",
       "      <td>4.50</td>\n",
       "      <td>Chocolate</td>\n",
       "      <td>Hot chocolate</td>\n",
       "    </tr>\n",
       "    <tr>\n",
       "      <th>4</th>\n",
       "      <td>5</td>\n",
       "      <td>06/05/2023</td>\n",
       "      <td>14:55:12</td>\n",
       "      <td>1.0</td>\n",
       "      <td>1</td>\n",
       "      <td>Amsterdam</td>\n",
       "      <td>4.50</td>\n",
       "      <td>Chocolate</td>\n",
       "      <td>Hot chocolate</td>\n",
       "    </tr>\n",
       "  </tbody>\n",
       "</table>\n",
       "</div>"
      ],
      "text/plain": [
       "   transaction_id transaction_date transaction_time  transaction_qty  \\\n",
       "0               1       06/08/2023         17:41:54              1.0   \n",
       "1               2       06/10/2023         11:30:46              2.0   \n",
       "2               3       06/06/2023         09:19:26              3.0   \n",
       "3               4       06/10/2023         17:25:49              1.0   \n",
       "4               5       06/05/2023         14:55:12              1.0   \n",
       "\n",
       "   store_id store_location  unit_price product_category   product_type  \n",
       "0         2      Groningen        3.25              Tea       Chai tea  \n",
       "1         2      Groningen        4.50        Chocolate  Hot chocolate  \n",
       "2         2      Groningen        3.00              Tea      Black tea  \n",
       "3         3          Breda        4.50        Chocolate  Hot chocolate  \n",
       "4         1      Amsterdam        4.50        Chocolate  Hot chocolate  "
      ]
     },
     "execution_count": 3,
     "metadata": {},
     "output_type": "execute_result"
    }
   ],
   "source": [
    "df.head()"
   ]
  },
  {
   "cell_type": "code",
   "execution_count": 4,
   "metadata": {},
   "outputs": [
    {
     "name": "stdout",
     "output_type": "stream",
     "text": [
      "The probability of more than 2 items being sold in a single transaction is 19.8%\n"
     ]
    }
   ],
   "source": [
    "\n",
    "transactions_more_than_2_items = df[df['transaction_qty'] > 2].shape[0]\n",
    "total_transactions = df.shape[0]\n",
    "\n",
    "probability_more_than_2_items = transactions_more_than_2_items / total_transactions * 100\n",
    "rounded_probability = round(probability_more_than_2_items, 1)\n",
    "# Assuming transactions_more_than_2_items holds the probability value\n",
    "print(f\"The probability of more than 2 items being sold in a single transaction is \" + str(rounded_probability)+ \"%\")\n",
    "\n"
   ]
  },
  {
   "cell_type": "code",
   "execution_count": 5,
   "metadata": {},
   "outputs": [
    {
     "data": {
      "image/png": "[encoded data removed]",
      "text/plain": [
       "<Figure size 1000x600 with 1 Axes>"
      ]
     },
     "metadata": {},
     "output_type": "display_data"
    }
   ],
   "source": [
    "import pandas as pd\n",
    "import matplotlib.pyplot as plt\n",
    "import seaborn as sns\n",
    "from scipy.stats import skew\n",
    "\n",
    "plt.figure(figsize=(10, 6))\n",
    "sns.boxplot(x='unit_price', y='product_type', data=df)\n",
    "plt.title('Unit Price Distribution by Product Type')\n",
    "plt.xlabel('Unit Price')\n",
    "plt.ylabel('Product Type')\n",
    "plt.grid(True)\n",
    "plt.show()\n",
    "\n"
   ]
  },
  {
   "cell_type": "code",
   "execution_count": 6,
   "metadata": {},
   "outputs": [
    {
     "data": {
      "text/html": [
       "<div>\n",
       "<style scoped>\n",
       "    .dataframe tbody tr th:only-of-type {\n",
       "        vertical-align: middle;\n",
       "    }\n",
       "\n",
       "    .dataframe tbody tr th {\n",
       "        vertical-align: top;\n",
       "    }\n",
       "\n",
       "    .dataframe thead th {\n",
       "        text-align: right;\n",
       "    }\n",
       "</style>\n",
       "<table border=\"1\" class=\"dataframe\">\n",
       "  <thead>\n",
       "    <tr style=\"text-align: right;\">\n",
       "      <th></th>\n",
       "      <th>product_type</th>\n",
       "      <th>unit_price</th>\n",
       "    </tr>\n",
       "  </thead>\n",
       "  <tbody>\n",
       "    <tr>\n",
       "      <th>0</th>\n",
       "      <td>Black coffee</td>\n",
       "      <td>2.00</td>\n",
       "    </tr>\n",
       "    <tr>\n",
       "      <th>1</th>\n",
       "      <td>Black tea</td>\n",
       "      <td>3.00</td>\n",
       "    </tr>\n",
       "    <tr>\n",
       "      <th>2</th>\n",
       "      <td>Chai tea</td>\n",
       "      <td>3.25</td>\n",
       "    </tr>\n",
       "    <tr>\n",
       "      <th>3</th>\n",
       "      <td>Green tea</td>\n",
       "      <td>3.15</td>\n",
       "    </tr>\n",
       "    <tr>\n",
       "      <th>4</th>\n",
       "      <td>Herbal tea</td>\n",
       "      <td>3.50</td>\n",
       "    </tr>\n",
       "    <tr>\n",
       "      <th>5</th>\n",
       "      <td>Hot chocolate</td>\n",
       "      <td>4.50</td>\n",
       "    </tr>\n",
       "    <tr>\n",
       "      <th>6</th>\n",
       "      <td>Milk coffee</td>\n",
       "      <td>3.50</td>\n",
       "    </tr>\n",
       "    <tr>\n",
       "      <th>7</th>\n",
       "      <td>Organic blended coffee</td>\n",
       "      <td>6.30</td>\n",
       "    </tr>\n",
       "    <tr>\n",
       "      <th>8</th>\n",
       "      <td>Pie</td>\n",
       "      <td>3.50</td>\n",
       "    </tr>\n",
       "    <tr>\n",
       "      <th>9</th>\n",
       "      <td>Sandwich</td>\n",
       "      <td>3.75</td>\n",
       "    </tr>\n",
       "    <tr>\n",
       "      <th>10</th>\n",
       "      <td>Scone</td>\n",
       "      <td>3.00</td>\n",
       "    </tr>\n",
       "    <tr>\n",
       "      <th>11</th>\n",
       "      <td>Syrup coffee</td>\n",
       "      <td>4.25</td>\n",
       "    </tr>\n",
       "  </tbody>\n",
       "</table>\n",
       "</div>"
      ],
      "text/plain": [
       "              product_type  unit_price\n",
       "0             Black coffee        2.00\n",
       "1                Black tea        3.00\n",
       "2                 Chai tea        3.25\n",
       "3                Green tea        3.15\n",
       "4               Herbal tea        3.50\n",
       "5            Hot chocolate        4.50\n",
       "6              Milk coffee        3.50\n",
       "7   Organic blended coffee        6.30\n",
       "8                      Pie        3.50\n",
       "9                 Sandwich        3.75\n",
       "10                   Scone        3.00\n",
       "11            Syrup coffee        4.25"
      ]
     },
     "execution_count": 6,
     "metadata": {},
     "output_type": "execute_result"
    }
   ],
   "source": [
    "# Since the prices are fixed per product type, we can simplify the representation by directly associating\n",
    "# each product type with its unit price, essentially reducing the information to a unique list.\n",
    "\n",
    "# Create a simplified DataFrame associating product types with their unique unit price\n",
    "unique_prices_per_product_type = df[['product_type', 'unit_price']].drop_duplicates().sort_values(by='product_type')\n",
    "\n",
    "unique_prices_per_product_type.reset_index(drop=True, inplace=True)\n",
    "\n",
    "unique_prices_per_product_type\n"
   ]
  },
  {
   "cell_type": "code",
   "execution_count": 7,
   "metadata": {},
   "outputs": [
    {
     "data": {
      "text/plain": [
       "3.7876586123110147"
      ]
     },
     "execution_count": 7,
     "metadata": {},
     "output_type": "execute_result"
    }
   ],
   "source": [
    "# Calculate the total revenue by summing up the revenue per transaction across all transactions\n",
    "df['revenue_per_transaction'] = df['transaction_qty'] * df['unit_price']\n",
    "total_revenue = df['revenue_per_transaction'].sum()\n",
    "total_transactions = df['transaction_qty'].sum()\n",
    "average_revenue_per_transaction = total_revenue / total_transactions\n",
    "average_revenue_per_transaction\n"
   ]
  },
  {
   "cell_type": "code",
   "execution_count": 8,
   "metadata": {},
   "outputs": [
    {
     "data": {
      "text/plain": [
       "14816.0"
      ]
     },
     "execution_count": 8,
     "metadata": {},
     "output_type": "execute_result"
    }
   ],
   "source": [
    "df['transaction_qty'].sum()"
   ]
  },
  {
   "cell_type": "code",
   "execution_count": 9,
   "metadata": {},
   "outputs": [
    {
     "data": {
      "text/plain": [
       "product_category\n",
       "Bakery       12307.00\n",
       "Chocolate    16978.50\n",
       "Coffee       14889.85\n",
       "Tea          11942.60\n",
       "Name: revenue_per_transaction, dtype: float64"
      ]
     },
     "execution_count": 9,
     "metadata": {},
     "output_type": "execute_result"
    }
   ],
   "source": [
    "# Sum the revenue per product category\n",
    "total_revenue_per_category = df.groupby('product_category')['revenue_per_transaction'].sum()\n",
    "\n",
    "total_revenue_per_category\n"
   ]
  }
 ],
 "metadata": {
  "kernelspec": {
   "display_name": "Python 3",
   "language": "python",
   "name": "python3"
  },
  "language_info": {
   "codemirror_mode": {
    "name": "ipython",
    "version": 3
   },
   "file_extension": ".py",
   "mimetype": "text/x-python",
   "name": "python",
   "nbconvert_exporter": "python",
   "pygments_lexer": "ipython3",
   "version": "3.10.13"
  }
 },
 "nbformat": 4,
 "nbformat_minor": 2
}
