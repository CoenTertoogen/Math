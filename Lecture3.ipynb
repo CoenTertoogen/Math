{
 "cells": [
  {
   "cell_type": "code",
   "execution_count": null,
   "id": "952f1767-9a8b-4347-97ab-91648ea5da1c",
   "metadata": {},
   "outputs": [],
   "source": [
    "# Dit is een test"
   ]
  }
 ],
 "metadata": {
  "kernelspec": {
   "display_name": "Python 3 (ipykernel)",
   "language": "python",
   "name": "python3"
  },
  "language_info": {
   "codemirror_mode": {
    "name": "ipython",
    "version": 3
   },
   "file_extension": ".py",
   "mimetype": "text/x-python",
   "name": "python",
   "nbconvert_exporter": "python",
   "pygments_lexer": "ipython3",
   "version": "3.12.2"
  }
 },
 "nbformat": 4,
 "nbformat_minor": 5
}
